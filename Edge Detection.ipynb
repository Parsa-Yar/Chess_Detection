{
 "cells": [
  {
   "cell_type": "markdown",
   "metadata": {},
   "source": [
    "# corner detection"
   ]
  },
  {
   "cell_type": "markdown",
   "metadata": {},
   "source": [
    "## using hough circle"
   ]
  },
  {
   "cell_type": "code",
   "execution_count": 192,
   "metadata": {},
   "outputs": [],
   "source": [
    "import numpy as np\n",
    "import cv2\n",
    "circles_center=[]\n",
    "img = cv2.imread('chessboard-background.jpg', cv2.IMREAD_COLOR)\n",
    "  \n",
    "# Convert to grayscale.\n",
    "gray = cv2.cvtColor(img, cv2.COLOR_BGR2GRAY)\n",
    "  \n",
    "# Blur using 3 * 3 kernel.\n",
    "gray_blurred = cv2.blur(gray, (3, 3))\n",
    "  \n",
    "# Apply Hough transform on the blurred image.\n",
    "detected_circles = cv2.HoughCircles(gray_blurred, \n",
    "                   cv2.HOUGH_GRADIENT, 1, 20, param1 = 50,\n",
    "               param2 = 30, minRadius = 1, maxRadius = 40)\n",
    "  \n",
    "# Draw circles that are detected.\n",
    "if detected_circles is not None:\n",
    "  \n",
    "    # Convert the circle parameters a, b and r to integers.\n",
    "    detected_circles = np.uint16(np.around(detected_circles))\n",
    "  \n",
    "    for pt in detected_circles[0, :]:\n",
    "        a, b, r = pt[0], pt[1], pt[2]\n",
    "  \n",
    "        # Draw the circumference of the circle.\n",
    "        cv2.circle(img, (a, b), r, (0, 255, 0), 2)\n",
    "        circles_center.append([a, b])\n",
    "  \n",
    "        # Draw a small circle (of radius 1) to show the center.\n",
    "        cv2.circle(img, (a, b), 1, (255, 0, 0), 3)\n",
    "cv2.imshow(\"Detected Circle\", img)\n",
    "cv2.waitKey(0)\n",
    "cv2.destroyAllWindows()"
   ]
  },
  {
   "cell_type": "code",
   "execution_count": 193,
   "metadata": {},
   "outputs": [
    {
     "data": {
      "text/plain": [
       "[[756, 36], [176, 40]]"
      ]
     },
     "execution_count": 193,
     "metadata": {},
     "output_type": "execute_result"
    }
   ],
   "source": [
    "# a = circles_center.sort()\n",
    "# b = a.sort(key=lambda x:x[1])\n",
    "# circles_center\n",
    "a = sorted(circles_center, key=lambda x:x[1])\n",
    "a[0:2]\n"
   ]
  },
  {
   "cell_type": "code",
   "execution_count": 194,
   "metadata": {},
   "outputs": [],
   "source": [
    "circles_center_upper_section = a[0:2]\n",
    "circles_center_lower_section = a[2:]\n",
    "circles_center_upper_section.sort()\n",
    "circles_center_lower_section.sort()"
   ]
  },
  {
   "cell_type": "code",
   "execution_count": 195,
   "metadata": {},
   "outputs": [
    {
     "name": "stdout",
     "output_type": "stream",
     "text": [
      "[[176, 40], [756, 36]]\n"
     ]
    }
   ],
   "source": [
    "print(circles_center_upper_section)\n"
   ]
  },
  {
   "cell_type": "code",
   "execution_count": 196,
   "metadata": {},
   "outputs": [
    {
     "name": "stdout",
     "output_type": "stream",
     "text": [
      "[[74, 524], [872, 526]]\n"
     ]
    }
   ],
   "source": [
    "print(circles_center_lower_section)"
   ]
  },
  {
   "cell_type": "code",
   "execution_count": 197,
   "metadata": {},
   "outputs": [
    {
     "data": {
      "text/plain": [
       "[176, 40]"
      ]
     },
     "execution_count": 197,
     "metadata": {},
     "output_type": "execute_result"
    }
   ],
   "source": [
    "circles_center_upper_section[0]"
   ]
  },
  {
   "cell_type": "code",
   "execution_count": 198,
   "metadata": {},
   "outputs": [],
   "source": [
    "width = 425\n",
    "height = 425\n",
    "dstPts = [[0, 0], [width, 0], [width, height], [0, height]]\n",
    "intersect_pts = np.array([circles_center_upper_section[0],circles_center_upper_section[1],\n",
    "                          circles_center_lower_section[1], circles_center_lower_section[0]])\n",
    "intersect_pts = np.float32(intersect_pts)\n",
    "m = cv2.getPerspectiveTransform(np.float32(intersect_pts), np.float32(dstPts))\n",
    "out = cv2.warpPerspective(img, m, (int(width), int(height)))\n",
    "cv2.imshow('ds32', out)\n",
    "cv2.imwrite('fitted_view.jpg', out)\n",
    "\n",
    "cv2.imshow('dst2', img)\n",
    "cv2.waitKey(0)\n",
    "cv2.destroyAllWindows()\n"
   ]
  },
  {
   "cell_type": "code",
   "execution_count": 199,
   "metadata": {},
   "outputs": [],
   "source": [
    "img = cv2.imread(\"fitted_view.jpg\")\n",
    "gray = cv2.cvtColor(img, cv2.COLOR_BGR2GRAY)\n",
    "\n",
    "gray = np.float32(gray)\n",
    "dst = cv2.cornerHarris(gray, 2, 3, 0.04)\n",
    "\n",
    "dst = cv2.dilate(dst, None)\n",
    "# dst = cv2.erode(dst,None,iterations = 2)\n",
    "np.random.randint(0,255)\n",
    "img[dst > 0.03 * dst.max()] = [0, 0, 255] \n",
    "img2 = img.copy()\n",
    "# cv2.circle(img2, (35, 332), 5, (255, 0, 0), -1)\n",
    "# cv2.circle(img2, (80, 125), 5, (255, 0, 0), -1)\n",
    "# cv2.circle(img2, (333, 125), 5, (255, 0, 0), -1)\n",
    "# cv2.circle(img2, (389, 331), 5, (255, 0, 0), -1)\n",
    "\n",
    "cv2.imshow('dst', img)\n",
    "# cv2.imshow('dst2', img2)\n",
    "\n",
    "cv2.waitKey(0)\n",
    "cv2.destroyAllWindows()\n"
   ]
  },
  {
   "cell_type": "code",
   "execution_count": 200,
   "metadata": {},
   "outputs": [],
   "source": [
    "cv2.imshow('dst', dst)\n",
    "# cv2.imshow('dst2', img2)\n",
    "\n",
    "cv2.waitKey(0)\n",
    "cv2.destroyAllWindows()\n"
   ]
  },
  {
   "cell_type": "markdown",
   "metadata": {},
   "source": [
    "# <font color='green'>corner detection using cornerHarris</font>"
   ]
  },
  {
   "cell_type": "code",
   "execution_count": 172,
   "metadata": {
    "scrolled": true
   },
   "outputs": [],
   "source": [
    "# import numpy as np\n",
    "# import cv2\n",
    "\n",
    "# img = cv2.imread('fitted_view.jpg')\n",
    "\n",
    "# cv2.imshow('img', img)\n",
    "# gray = cv2.cvtColor(img, cv2.COLOR_BGR2GRAY)\n",
    "\n",
    "# gray = np.float32(gray)\n",
    "# dst = cv2.cornerHarris(gray, 2, 3, 0.04) \n",
    "\n",
    "# dst = cv2.dilate(dst, None)\n",
    "# # dst = cv2.erode(dst,None,iterations = 2)\n",
    "# np.random.randint(0,255)\n",
    "# img[dst > 0.03 * dst.max()] = [0, 0, 255] \n",
    "# img2 = img.copy()\n",
    "# # cv2.circle(img2, (35, 332), 5, (255, 0, 0), -1)\n",
    "# # cv2.circle(img2, (80, 125), 5, (255, 0, 0), -1)\n",
    "# # cv2.circle(img2, (333, 125), 5, (255, 0, 0), -1)\n",
    "# # cv2.circle(img2, (389, 331), 5, (255, 0, 0), -1)\n",
    "\n",
    "# cv2.imshow('dst', img)\n",
    "# # cv2.imshow('dst2', img2)\n",
    "\n",
    "# cv2.waitKey(0)\n",
    "# cv2.destroyAllWindows()"
   ]
  },
  {
   "cell_type": "code",
   "execution_count": null,
   "metadata": {},
   "outputs": [],
   "source": [
    "# m = cv2.getPerspectiveTransform(np.float32(intersect_pts), np.float32(dstPts))\n",
    "# out = cv2.warpPerspective(np.array([25,25,1]), m, (int(width), int(height)))"
   ]
  },
  {
   "cell_type": "code",
   "execution_count": 10,
   "metadata": {},
   "outputs": [],
   "source": [
    "import pandas as pd\n",
    "import cv2\n",
    "import numpy as np\n",
    "import matplotlib.pyplot as plt"
   ]
  },
  {
   "cell_type": "markdown",
   "metadata": {},
   "source": [
    "## corner detection using goodFeaturseToTrack"
   ]
  },
  {
   "cell_type": "code",
   "execution_count": 201,
   "metadata": {
    "scrolled": true
   },
   "outputs": [
    {
     "data": {
      "text/plain": [
       "<matplotlib.image.AxesImage at 0x20e3005c3d0>"
      ]
     },
     "execution_count": 201,
     "metadata": {},
     "output_type": "execute_result"
    },
    {
     "data": {
      "image/png": "[encoded data removed]",
      "text/plain": [
       "<Figure size 432x288 with 1 Axes>"
      ]
     },
     "metadata": {
      "needs_background": "light"
     },
     "output_type": "display_data"
    }
   ],
   "source": [
    "import numpy as np\n",
    "import cv2\n",
    "%matplotlib inline\n",
    "\n",
    "img = cv2.imread('fitted_view.jpg')\n",
    "# img = cv2.resize(img, (0, 0), fx=0.75, fy=0.75)\n",
    "gray = cv2.cvtColor(img, cv2.COLOR_BGR2GRAY)\n",
    "\n",
    "corners = cv2.goodFeaturesToTrack(gray, 81, 0.00001, 10)\n",
    "corners = np.int0(corners)\n",
    "\n",
    "for corner in corners:\n",
    "    x, y = corner.ravel()\n",
    "    cv2.circle(img, (x, y), 4, (255, 0, 0), -1)\n",
    "\n",
    "\n",
    "plt.imshow(img)\n",
    "# cv2.waitKey(0)\n",
    "# cv2.destroyAllWindows()"
   ]
  },
  {
   "cell_type": "code",
   "execution_count": 202,
   "metadata": {},
   "outputs": [],
   "source": [
    "corners = corners.reshape(81,2)"
   ]
  },
  {
   "cell_type": "code",
   "execution_count": 203,
   "metadata": {},
   "outputs": [],
   "source": [
    "sorted_arr = corners[corners[:, 0].argsort()]"
   ]
  },
  {
   "cell_type": "code",
   "execution_count": 204,
   "metadata": {},
   "outputs": [],
   "source": [
    "dist = corners[:,0]\n",
    "dist = (corners[:,0] **2 + corners[:,1]**2)**0.5"
   ]
  },
  {
   "cell_type": "code",
   "execution_count": 205,
   "metadata": {},
   "outputs": [
    {
     "data": {
      "text/plain": [
       "419"
      ]
     },
     "execution_count": 205,
     "metadata": {},
     "output_type": "execute_result"
    }
   ],
   "source": [
    "x_min, y_min = corners[dist==dist.min()][0]\n",
    "x_max, y_max = corners[dist==dist.max()][0]\n",
    "y_max"
   ]
  },
  {
   "cell_type": "code",
   "execution_count": 206,
   "metadata": {},
   "outputs": [
    {
     "data": {
      "text/plain": [
       "51.06559813122725"
      ]
     },
     "execution_count": 206,
     "metadata": {},
     "output_type": "execute_result"
    }
   ],
   "source": [
    "diag = ((x_max - x_min)**2 + (y_max-y_min)**2)**0.5\n",
    "cell_length = (diag/np.sqrt(2)) / 8\n",
    "cell_length"
   ]
  },
  {
   "cell_type": "code",
   "execution_count": 207,
   "metadata": {},
   "outputs": [
    {
     "data": {
      "text/plain": [
       "array([77, 26])"
      ]
     },
     "execution_count": 207,
     "metadata": {},
     "output_type": "execute_result"
    }
   ],
   "source": [
    "a = np.array([round(3*cell_length/2),round(cell_length/2)])\n",
    "a"
   ]
  },
  {
   "cell_type": "code",
   "execution_count": 208,
   "metadata": {},
   "outputs": [],
   "source": [
    "img = cv2.imread('fitted_view.jpg')\n",
    "img = cv2.circle(img, a, radius=2, color=(255, 255, 0), thickness=-1)\n",
    "cv2.imshow('dst', img)\n",
    "cv2.waitKey(0)\n",
    "cv2.destroyAllWindows()"
   ]
  },
  {
   "cell_type": "code",
   "execution_count": 146,
   "metadata": {},
   "outputs": [
    {
     "data": {
      "text/plain": [
       "65"
      ]
     },
     "execution_count": 146,
     "metadata": {},
     "output_type": "execute_result"
    }
   ],
   "source": []
  },
  {
   "cell_type": "code",
   "execution_count": 210,
   "metadata": {},
   "outputs": [],
   "source": [
    "def cell2Cord(cellName,cellLength):\n",
    "    x_cord = ord(cellName[0]) - 96 - 0.5\n",
    "    y_cord = 9 - int(cellName[1]) - 0.5\n",
    "    return np.array([round(x_cord*cell_length), round(y_cord*cellLength)])\n",
    "\n",
    "img = cv2.imread('fitted_view.jpg')\n",
    "img = cv2.circle(img, cell2Cord(\"b3\",cell_length), radius=3, color=(0, 0, 255), thickness=-1)\n",
    "cv2.imshow('dst', img)\n",
    "cv2.waitKey(0)\n",
    "cv2.destroyAllWindows()\n",
    "\n",
    "    "
   ]
  },
  {
   "cell_type": "code",
   "execution_count": 100,
   "metadata": {},
   "outputs": [
    {
     "data": {
      "text/plain": [
       "<matplotlib.image.AxesImage at 0x20e204847f0>"
      ]
     },
     "execution_count": 100,
     "metadata": {},
     "output_type": "execute_result"
    },
    {
     "data": {
      "image/png": "[encoded data removed]",
      "text/plain": [
       "<Figure size 432x288 with 1 Axes>"
      ]
     },
     "metadata": {
      "needs_background": "light"
     },
     "output_type": "display_data"
    }
   ],
   "source": [
    "import numpy as np\n",
    "import cv2\n",
    "%matplotlib inline\n",
    "\n",
    "img = cv2.imread('fitted_view.jpg')\n",
    "img = cv2.resize(img, (0, 0), fx=0.75, fy=0.75)\n",
    "gray = cv2.cvtColor(img, cv2.COLOR_BGR2GRAY)\n",
    "\n",
    "corners = cv2.goodFeaturesToTrack(gray, 81, 0.00001, 10)\n",
    "corners = np.int0(corners)\n",
    "\n",
    "for corner in sorted_arr:\n",
    "    x, y = corner.ravel()\n",
    "    cv2.circle(img, (x, y), 4, (255, 0, 0), -1)\n",
    "\n",
    "\n",
    "plt.imshow(img)"
   ]
  },
  {
   "cell_type": "markdown",
   "metadata": {},
   "source": [
    "## drawing lines using HoughLinesP"
   ]
  },
  {
   "cell_type": "code",
   "execution_count": 87,
   "metadata": {},
   "outputs": [],
   "source": [
    "def draw_line(image, lines):\n",
    "    lines_image = np.zeros((image.shape[0], image.shape[1], 3), dtype = np.uint8) \n",
    "    for line in lines:\n",
    "        for x1, y1, x2, y2 in line:\n",
    "            cv2.line(lines_image, (x1, y1), (x2, y2), (255, 255, 0), thickness = 3)\n",
    "    \n",
    "    image_with_lines = cv2.addWeighted(image, 0.8, lines_image, 1, 0.0)\n",
    "\n",
    "    \n",
    "    return(image_with_lines)\n",
    "def get_lane(image):\n",
    "    (height, width, _) = image.shape\n",
    "    gray_image = cv2.cvtColor(image, cv2.COLOR_BGR2GRAY)\n",
    "    #canny edge detection function\n",
    "    edged_img = cv2.Canny(gray_image,100, 120)\n",
    "\n",
    "#     desired_region = [ (0, height), (width/2, height*0.65), (width, height) ]\n",
    "\n",
    "#     cropped_image = region_of_interest(edged_img, np.array([desired_region], np.int32))\n",
    "\n",
    "    lines = cv2.HoughLinesP(edged_img, rho = 2, theta = np.pi/180, threshold = 50, lines = np.array([]),\n",
    "                             minLineLength = 40, maxLineGap = 150 )\n",
    "    image_with_line = draw_line(image, lines)\n",
    "    \n",
    "    return (image_with_line)\n",
    "\n",
    "img = cv2.imread('chessG.jpg')\n",
    "image_detected = get_lane(img)\n",
    "cv2.imshow('dst', img)\n",
    "cv2.imshow('resualt', image_detected)\n",
    "cv2.waitKey(0)\n",
    "cv2.destroyAllWindows()\n"
   ]
  },
  {
   "cell_type": "markdown",
   "metadata": {},
   "source": [
    "# finding contours using a Mask"
   ]
  },
  {
   "cell_type": "code",
   "execution_count": 88,
   "metadata": {},
   "outputs": [],
   "source": [
    "img = cv2.imread(\"chessG.jpg\")\n",
    "hsv_pic = cv2.cvtColor(img,cv2.COLOR_BGR2HSV)\n",
    "blur_kernel = np.ones((3, 3))/9\n",
    "blur_img = cv2.filter2D(img, -1, blur_kernel)\n",
    "hsv_pic = cv2.cvtColor(blur_img,cv2.COLOR_BGR2HSV)\n",
    "lower = np.array([2, 7, 33])\n",
    "upper = np.array([255, 255, 255])\n",
    "output_pic = cv2.inRange(hsv_pic,lower,upper)\n",
    "# erosion_pic = cv2.erode(output_pic,None,iterations = 4)\n",
    "# dilate = cv2.dilate(erosion_pic,None,iterations = 4)\n",
    "cnt, _ = cv2.findContours(output_pic, cv2.StereoBM_PREFILTER_XSOBEL, cv2.CHAIN_APPROX_SIMPLE)\n",
    "cv2.drawContours(img, cnt, -1, (0,225,0),3)\n",
    "cv2.imshow(\"output_pic\",img)\n",
    "cv2.waitKey(0)\n",
    "cv2.destroyAllWindows()"
   ]
  },
  {
   "cell_type": "code",
   "execution_count": 89,
   "metadata": {},
   "outputs": [],
   "source": [
    "img = cv2.imread(\"empty-board.jpg\")\n",
    "rect = cv2.minAreaRect(cnt[0])\n",
    "box = cv2.boxPoints(rect)\n",
    "box = np.int0(box)\n",
    "cv2.drawContours(img,[box],0,(0,0,255),2)\n",
    "cv2.imshow(\"output_pic\",img)\n",
    "cv2.waitKey(0)\n",
    "cv2.destroyAllWindows()\n"
   ]
  },
  {
   "cell_type": "code",
   "execution_count": 90,
   "metadata": {},
   "outputs": [],
   "source": [
    "x,y,w,h = cv2.boundingRect(cnt[0])"
   ]
  },
  {
   "cell_type": "code",
   "execution_count": 92,
   "metadata": {},
   "outputs": [
    {
     "data": {
      "text/plain": [
       "array([[529, 452],\n",
       "       [529, 452],\n",
       "       [528, 452],\n",
       "       [528, 452]], dtype=int64)"
      ]
     },
     "execution_count": 92,
     "metadata": {},
     "output_type": "execute_result"
    }
   ],
   "source": [
    "temp =  cv2.minAreaRect(cnt[0])\n",
    "rect = cv2.minAreaRect(cnt[0])\n",
    "box = cv2.boxPoints(rect)\n",
    "box = np.int0(box)\n",
    "box"
   ]
  },
  {
   "cell_type": "code",
   "execution_count": 93,
   "metadata": {},
   "outputs": [
    {
     "data": {
      "text/plain": [
       "numpy.ndarray"
      ]
     },
     "execution_count": 93,
     "metadata": {},
     "output_type": "execute_result"
    }
   ],
   "source": [
    "type(box)"
   ]
  },
  {
   "cell_type": "code",
   "execution_count": 18,
   "metadata": {},
   "outputs": [],
   "source": [
    "img = cv2.imread(\"chessG.jpg\")\n",
    "# img = cv2.rectangle(img,box[0],box[2] , (0, 0, 255), 2)\n",
    "# img = cv2.circle(img, box[0], radius=2, color=(0, 0, 255), thickness=-1)\n",
    "# img = cv2.circle(img, box[1], radius=2, color=(0, 255, 0), thickness=-1)\n",
    "# img = cv2.circle(img, box[2], radius=2, color=(255, 0, 0), thickness=-1)\n",
    "img = cv2.circle(img, (4,340), radius=2, color=(0, 0, 255), thickness=-1)\n",
    "cv2.imshow(\"output_pic\",img)\n",
    "cv2.waitKey(0)\n",
    "cv2.destroyAllWindows()"
   ]
  },
  {
   "cell_type": "code",
   "execution_count": 74,
   "metadata": {},
   "outputs": [
    {
     "data": {
      "text/plain": [
       "array([[112, 108],\n",
       "       [111, 109],\n",
       "       [100, 109],\n",
       "       [ 99, 110],\n",
       "       [ 94, 110],\n",
       "       [ 93, 111],\n",
       "       [ 92, 110],\n",
       "       [ 88, 110],\n",
       "       [ 87, 111],\n",
       "       [ 66, 111],\n",
       "       [ 65, 112],\n",
       "       [ 63, 112],\n",
       "       [ 63, 113],\n",
       "       [ 62, 114],\n",
       "       [ 62, 115],\n",
       "       [ 60, 117],\n",
       "       [ 60, 120],\n",
       "       [ 59, 121],\n",
       "       [ 59, 126],\n",
       "       [ 58, 127],\n",
       "       [ 58, 131],\n",
       "       [ 57, 132],\n",
       "       [ 57, 135],\n",
       "       [ 56, 136],\n",
       "       [ 56, 139],\n",
       "       [ 55, 140],\n",
       "       [ 55, 143],\n",
       "       [ 54, 144],\n",
       "       [ 54, 145],\n",
       "       [ 53, 146],\n",
       "       [ 53, 148],\n",
       "       [ 52, 149],\n",
       "       [ 52, 150],\n",
       "       [ 51, 151],\n",
       "       [ 51, 156],\n",
       "       [ 50, 157],\n",
       "       [ 50, 161],\n",
       "       [ 49, 162],\n",
       "       [ 49, 164],\n",
       "       [ 48, 165],\n",
       "       [ 48, 168],\n",
       "       [ 47, 169],\n",
       "       [ 47, 175],\n",
       "       [ 46, 176],\n",
       "       [ 46, 178],\n",
       "       [ 45, 179],\n",
       "       [ 45, 181],\n",
       "       [ 44, 182],\n",
       "       [ 44, 184],\n",
       "       [ 43, 185],\n",
       "       [ 43, 190],\n",
       "       [ 42, 191],\n",
       "       [ 42, 193],\n",
       "       [ 41, 194],\n",
       "       [ 41, 197],\n",
       "       [ 40, 198],\n",
       "       [ 40, 199],\n",
       "       [ 39, 200],\n",
       "       [ 39, 201],\n",
       "       [ 38, 202],\n",
       "       [ 38, 203],\n",
       "       [ 37, 204],\n",
       "       [ 37, 205],\n",
       "       [ 36, 206],\n",
       "       [ 36, 207],\n",
       "       [ 35, 208],\n",
       "       [ 35, 211],\n",
       "       [ 34, 212],\n",
       "       [ 34, 217],\n",
       "       [ 33, 218],\n",
       "       [ 33, 222],\n",
       "       [ 32, 223],\n",
       "       [ 32, 226],\n",
       "       [ 31, 227],\n",
       "       [ 31, 238],\n",
       "       [ 30, 239],\n",
       "       [ 30, 240],\n",
       "       [ 29, 241],\n",
       "       [ 29, 244],\n",
       "       [ 28, 245],\n",
       "       [ 28, 248],\n",
       "       [ 27, 249],\n",
       "       [ 27, 250],\n",
       "       [ 26, 251],\n",
       "       [ 26, 255],\n",
       "       [ 25, 256],\n",
       "       [ 25, 259],\n",
       "       [ 24, 260],\n",
       "       [ 24, 264],\n",
       "       [ 23, 265],\n",
       "       [ 23, 267],\n",
       "       [ 22, 268],\n",
       "       [ 22, 273],\n",
       "       [ 21, 274],\n",
       "       [ 21, 276],\n",
       "       [ 20, 277],\n",
       "       [ 20, 278],\n",
       "       [ 19, 279],\n",
       "       [ 19, 286],\n",
       "       [ 18, 287],\n",
       "       [ 18, 290],\n",
       "       [ 17, 291],\n",
       "       [ 17, 293],\n",
       "       [ 16, 294],\n",
       "       [ 16, 297],\n",
       "       [ 15, 298],\n",
       "       [ 15, 304],\n",
       "       [ 14, 305],\n",
       "       [ 14, 307],\n",
       "       [ 13, 308],\n",
       "       [ 13, 310],\n",
       "       [ 12, 311],\n",
       "       [ 12, 314],\n",
       "       [ 11, 315],\n",
       "       [ 11, 319],\n",
       "       [ 10, 320],\n",
       "       [ 10, 323],\n",
       "       [  9, 324],\n",
       "       [  9, 326],\n",
       "       [  8, 327],\n",
       "       [  8, 328],\n",
       "       [  6, 330],\n",
       "       [  6, 332],\n",
       "       [  5, 333],\n",
       "       [  5, 335],\n",
       "       [  6, 336],\n",
       "       [  6, 337],\n",
       "       [  5, 338],\n",
       "       [  5, 339],\n",
       "       [  4, 340],\n",
       "       [  4, 346],\n",
       "       [  5, 347],\n",
       "       [  5, 348],\n",
       "       [  8, 351],\n",
       "       [ 13, 351],\n",
       "       [ 14, 350],\n",
       "       [ 17, 350],\n",
       "       [ 18, 351],\n",
       "       [ 19, 350],\n",
       "       [ 20, 351],\n",
       "       [ 21, 350],\n",
       "       [ 22, 351],\n",
       "       [ 23, 350],\n",
       "       [ 94, 350],\n",
       "       [ 95, 351],\n",
       "       [142, 351],\n",
       "       [143, 352],\n",
       "       [213, 352],\n",
       "       [214, 351],\n",
       "       [238, 351],\n",
       "       [239, 352],\n",
       "       [256, 352],\n",
       "       [257, 351],\n",
       "       [272, 351],\n",
       "       [273, 350],\n",
       "       [288, 350],\n",
       "       [289, 349],\n",
       "       [366, 349],\n",
       "       [367, 350],\n",
       "       [368, 349],\n",
       "       [369, 350],\n",
       "       [399, 350],\n",
       "       [400, 351],\n",
       "       [414, 351],\n",
       "       [417, 348],\n",
       "       [417, 341],\n",
       "       [416, 340],\n",
       "       [416, 336],\n",
       "       [415, 335],\n",
       "       [415, 332],\n",
       "       [414, 331],\n",
       "       [414, 330],\n",
       "       [413, 329],\n",
       "       [413, 328],\n",
       "       [412, 327],\n",
       "       [412, 326],\n",
       "       [411, 325],\n",
       "       [411, 322],\n",
       "       [410, 321],\n",
       "       [410, 319],\n",
       "       [409, 318],\n",
       "       [409, 316],\n",
       "       [408, 315],\n",
       "       [408, 313],\n",
       "       [407, 312],\n",
       "       [407, 310],\n",
       "       [406, 309],\n",
       "       [406, 306],\n",
       "       [405, 305],\n",
       "       [405, 303],\n",
       "       [404, 302],\n",
       "       [404, 299],\n",
       "       [403, 298],\n",
       "       [403, 296],\n",
       "       [402, 295],\n",
       "       [402, 293],\n",
       "       [401, 292],\n",
       "       [401, 291],\n",
       "       [400, 290],\n",
       "       [400, 286],\n",
       "       [399, 285],\n",
       "       [399, 282],\n",
       "       [398, 281],\n",
       "       [398, 279],\n",
       "       [397, 278],\n",
       "       [397, 276],\n",
       "       [396, 275],\n",
       "       [396, 272],\n",
       "       [395, 271],\n",
       "       [395, 268],\n",
       "       [394, 267],\n",
       "       [394, 264],\n",
       "       [393, 263],\n",
       "       [393, 262],\n",
       "       [392, 261],\n",
       "       [392, 259],\n",
       "       [391, 258],\n",
       "       [391, 254],\n",
       "       [390, 253],\n",
       "       [390, 251],\n",
       "       [389, 250],\n",
       "       [389, 249],\n",
       "       [388, 248],\n",
       "       [388, 245],\n",
       "       [387, 244],\n",
       "       [387, 243],\n",
       "       [386, 242],\n",
       "       [386, 240],\n",
       "       [384, 238],\n",
       "       [384, 235],\n",
       "       [383, 234],\n",
       "       [383, 231],\n",
       "       [382, 230],\n",
       "       [382, 229],\n",
       "       [381, 228],\n",
       "       [381, 225],\n",
       "       [380, 224],\n",
       "       [380, 217],\n",
       "       [379, 216],\n",
       "       [379, 207],\n",
       "       [378, 206],\n",
       "       [378, 202],\n",
       "       [377, 201],\n",
       "       [377, 200],\n",
       "       [376, 199],\n",
       "       [376, 198],\n",
       "       [375, 197],\n",
       "       [375, 196],\n",
       "       [374, 195],\n",
       "       [374, 192],\n",
       "       [371, 189],\n",
       "       [371, 188],\n",
       "       [370, 187],\n",
       "       [370, 186],\n",
       "       [369, 185],\n",
       "       [369, 184],\n",
       "       [368, 183],\n",
       "       [368, 181],\n",
       "       [367, 180],\n",
       "       [367, 177],\n",
       "       [365, 175],\n",
       "       [365, 173],\n",
       "       [364, 172],\n",
       "       [364, 169],\n",
       "       [363, 168],\n",
       "       [363, 165],\n",
       "       [362, 164],\n",
       "       [362, 162],\n",
       "       [361, 161],\n",
       "       [361, 159],\n",
       "       [360, 158],\n",
       "       [360, 153],\n",
       "       [359, 152],\n",
       "       [359, 150],\n",
       "       [358, 149],\n",
       "       [358, 148],\n",
       "       [357, 147],\n",
       "       [357, 145],\n",
       "       [356, 144],\n",
       "       [356, 141],\n",
       "       [355, 140],\n",
       "       [355, 137],\n",
       "       [354, 136],\n",
       "       [354, 134],\n",
       "       [353, 133],\n",
       "       [353, 132],\n",
       "       [352, 131],\n",
       "       [352, 127],\n",
       "       [351, 126],\n",
       "       [351, 124],\n",
       "       [350, 123],\n",
       "       [350, 122],\n",
       "       [349, 121],\n",
       "       [349, 116],\n",
       "       [348, 115],\n",
       "       [347, 115],\n",
       "       [346, 114],\n",
       "       [345, 114],\n",
       "       [343, 112],\n",
       "       [329, 112],\n",
       "       [328, 111],\n",
       "       [317, 111],\n",
       "       [316, 110],\n",
       "       [304, 110],\n",
       "       [303, 109],\n",
       "       [283, 109],\n",
       "       [282, 108],\n",
       "       [240, 108],\n",
       "       [239, 109],\n",
       "       [223, 109],\n",
       "       [222, 110],\n",
       "       [212, 110],\n",
       "       [211, 111],\n",
       "       [207, 111],\n",
       "       [206, 112],\n",
       "       [189, 112],\n",
       "       [188, 111],\n",
       "       [177, 111],\n",
       "       [175, 109],\n",
       "       [162, 109],\n",
       "       [161, 108]], dtype=int32)"
      ]
     },
     "execution_count": 74,
     "metadata": {},
     "output_type": "execute_result"
    }
   ],
   "source": [
    "countor = cnt[0]\n",
    "countor[:,0,:]\n"
   ]
  },
  {
   "cell_type": "markdown",
   "metadata": {},
   "source": [
    "### creating pandas DataFrame from contours"
   ]
  },
  {
   "cell_type": "code",
   "execution_count": 77,
   "metadata": {},
   "outputs": [
    {
     "data": {
      "text/html": [
       "<div>\n",
       "<style scoped>\n",
       "    .dataframe tbody tr th:only-of-type {\n",
       "        vertical-align: middle;\n",
       "    }\n",
       "\n",
       "    .dataframe tbody tr th {\n",
       "        vertical-align: top;\n",
       "    }\n",
       "\n",
       "    .dataframe thead th {\n",
       "        text-align: right;\n",
       "    }\n",
       "</style>\n",
       "<table border=\"1\" class=\"dataframe\">\n",
       "  <thead>\n",
       "    <tr style=\"text-align: right;\">\n",
       "      <th></th>\n",
       "      <th>x</th>\n",
       "      <th>y</th>\n",
       "    </tr>\n",
       "  </thead>\n",
       "  <tbody>\n",
       "    <tr>\n",
       "      <th>0</th>\n",
       "      <td>112</td>\n",
       "      <td>108</td>\n",
       "    </tr>\n",
       "    <tr>\n",
       "      <th>1</th>\n",
       "      <td>111</td>\n",
       "      <td>109</td>\n",
       "    </tr>\n",
       "    <tr>\n",
       "      <th>2</th>\n",
       "      <td>100</td>\n",
       "      <td>109</td>\n",
       "    </tr>\n",
       "    <tr>\n",
       "      <th>3</th>\n",
       "      <td>99</td>\n",
       "      <td>110</td>\n",
       "    </tr>\n",
       "    <tr>\n",
       "      <th>4</th>\n",
       "      <td>94</td>\n",
       "      <td>110</td>\n",
       "    </tr>\n",
       "    <tr>\n",
       "      <th>...</th>\n",
       "      <td>...</td>\n",
       "      <td>...</td>\n",
       "    </tr>\n",
       "    <tr>\n",
       "      <th>316</th>\n",
       "      <td>188</td>\n",
       "      <td>111</td>\n",
       "    </tr>\n",
       "    <tr>\n",
       "      <th>317</th>\n",
       "      <td>177</td>\n",
       "      <td>111</td>\n",
       "    </tr>\n",
       "    <tr>\n",
       "      <th>318</th>\n",
       "      <td>175</td>\n",
       "      <td>109</td>\n",
       "    </tr>\n",
       "    <tr>\n",
       "      <th>319</th>\n",
       "      <td>162</td>\n",
       "      <td>109</td>\n",
       "    </tr>\n",
       "    <tr>\n",
       "      <th>320</th>\n",
       "      <td>161</td>\n",
       "      <td>108</td>\n",
       "    </tr>\n",
       "  </tbody>\n",
       "</table>\n",
       "<p>321 rows × 2 columns</p>\n",
       "</div>"
      ],
      "text/plain": [
       "       x    y\n",
       "0    112  108\n",
       "1    111  109\n",
       "2    100  109\n",
       "3     99  110\n",
       "4     94  110\n",
       "..   ...  ...\n",
       "316  188  111\n",
       "317  177  111\n",
       "318  175  109\n",
       "319  162  109\n",
       "320  161  108\n",
       "\n",
       "[321 rows x 2 columns]"
      ]
     },
     "execution_count": 77,
     "metadata": {},
     "output_type": "execute_result"
    }
   ],
   "source": [
    "df = pd.DataFrame(countor[:,0,:],columns=[\"x\", \"y\"])\n",
    "df"
   ]
  },
  {
   "cell_type": "code",
   "execution_count": 83,
   "metadata": {},
   "outputs": [
    {
     "data": {
      "text/html": [
       "<div>\n",
       "<style scoped>\n",
       "    .dataframe tbody tr th:only-of-type {\n",
       "        vertical-align: middle;\n",
       "    }\n",
       "\n",
       "    .dataframe tbody tr th {\n",
       "        vertical-align: top;\n",
       "    }\n",
       "\n",
       "    .dataframe thead th {\n",
       "        text-align: right;\n",
       "    }\n",
       "</style>\n",
       "<table border=\"1\" class=\"dataframe\">\n",
       "  <thead>\n",
       "    <tr style=\"text-align: right;\">\n",
       "      <th></th>\n",
       "      <th>x</th>\n",
       "      <th>y</th>\n",
       "    </tr>\n",
       "  </thead>\n",
       "  <tbody>\n",
       "    <tr>\n",
       "      <th>129</th>\n",
       "      <td>4</td>\n",
       "      <td>340</td>\n",
       "    </tr>\n",
       "  </tbody>\n",
       "</table>\n",
       "</div>"
      ],
      "text/plain": [
       "     x    y\n",
       "129  4  340"
      ]
     },
     "execution_count": 83,
     "metadata": {},
     "output_type": "execute_result"
    }
   ],
   "source": [
    "min_x = df[ (df[\"x\"] == min(df[\"x\"]))]\n",
    "min_x[ min_x[\"y\"]==min(min_x[\"y\"]) ]"
   ]
  },
  {
   "cell_type": "code",
   "execution_count": 19,
   "metadata": {},
   "outputs": [
    {
     "ename": "IndexError",
     "evalue": "index 1 is out of bounds for axis 0 with size 1",
     "output_type": "error",
     "traceback": [
      "\u001b[1;31m---------------------------------------------------------------------------\u001b[0m",
      "\u001b[1;31mIndexError\u001b[0m                                Traceback (most recent call last)",
      "Input \u001b[1;32mIn [19]\u001b[0m, in \u001b[0;36m<cell line: 3>\u001b[1;34m()\u001b[0m\n\u001b[0;32m      5\u001b[0m rect \u001b[38;5;241m=\u001b[39m cnt[i]\n\u001b[0;32m      6\u001b[0m w \u001b[38;5;241m=\u001b[39m rect[\u001b[38;5;241m1\u001b[39m][\u001b[38;5;241m0\u001b[39m]\n\u001b[1;32m----> 7\u001b[0m h \u001b[38;5;241m=\u001b[39m \u001b[43mrect\u001b[49m\u001b[43m[\u001b[49m\u001b[38;5;241;43m1\u001b[39;49m\u001b[43m]\u001b[49m\u001b[43m[\u001b[49m\u001b[38;5;241;43m1\u001b[39;49m\u001b[43m]\u001b[49m\n\u001b[0;32m      8\u001b[0m area \u001b[38;5;241m=\u001b[39m w\u001b[38;5;241m*\u001b[39mh\n\u001b[0;32m      9\u001b[0m \u001b[38;5;28;01mif\u001b[39;00m area \u001b[38;5;241m>\u001b[39m max_Area:\n",
      "\u001b[1;31mIndexError\u001b[0m: index 1 is out of bounds for axis 0 with size 1"
     ]
    }
   ],
   "source": [
    "max_Area = 0\n",
    "desired_index = 0\n",
    "for i in range(len(cnt)):\n",
    "    if len(rect) == 3:\n",
    "        rect = cnt[i]\n",
    "        w = rect[1][0]\n",
    "        h = rect[1][1]\n",
    "        area = w*h\n",
    "        if area > max_Area:\n",
    "            max_Area = area\n",
    "            index = i\n",
    "    else:\n",
    "        continue\n",
    "\n",
    "    \n",
    "    "
   ]
  },
  {
   "cell_type": "code",
   "execution_count": 31,
   "metadata": {},
   "outputs": [],
   "source": [
    "img = cv2.imread(\"empty-board.jpg\")\n",
    "hsv_pic = cv2.cvtColor(img,cv2.COLOR_BGR2HSV)\n",
    "blur_kernel = np.ones((3, 3))/9\n",
    "blur_img = cv2.filter2D(img, -1, blur_kernel)\n",
    "hsv_pic = cv2.cvtColor(blur_img,cv2.COLOR_BGR2HSV)\n",
    "lower = np.array([2, 7, 33])\n",
    "upper = np.array([255, 255, 255])\n",
    "output_pic = cv2.inRange(hsv_pic,lower,upper)\n",
    "# erosion_pic = cv2.erode(output_pic,None,iterations = 4)\n",
    "# dilate = cv2.dilate(erosion_pic,None,iterations = 4)\n",
    "cnt, _ = cv2.findContours(output_pic, cv2.StereoBM_PREFILTER_XSOBEL, cv2.CHAIN_APPROX_SIMPLE)\n",
    "max_Area = 0\n",
    "desired_index = 0\n",
    "for i in range(len(cnt)):\n",
    "    rect = cv2.minAreaRect(cnt[i])\n",
    "    if len(rect) == 3:\n",
    "        w = rect[1][0]\n",
    "        h = rect[1][1]\n",
    "        area = w*h\n",
    "        if area > max_Area:\n",
    "            max_Area = area\n",
    "            desired_index= i\n",
    "    else:\n",
    "        continue"
   ]
  },
  {
   "cell_type": "code",
   "execution_count": 33,
   "metadata": {},
   "outputs": [],
   "source": [
    "rect = cv2.minAreaRect(cnt[desired_index])\n",
    "box = cv2.boxPoints(rect)\n",
    "box = np.int0(box)\n",
    "cv2.drawContours(img,[box],0,(0,0,255),2)\n",
    "cv2.imshow(\"output_pic\",img)\n",
    "cv2.waitKey(0)\n",
    "cv2.destroyAllWindows()"
   ]
  },
  {
   "cell_type": "code",
   "execution_count": 32,
   "metadata": {},
   "outputs": [
    {
     "data": {
      "text/plain": [
       "162"
      ]
     },
     "execution_count": 32,
     "metadata": {},
     "output_type": "execute_result"
    }
   ],
   "source": [
    "desired_index"
   ]
  },
  {
   "cell_type": "code",
   "execution_count": 34,
   "metadata": {},
   "outputs": [],
   "source": [
    "my_img = cv2.imread(\"chessG.jpg\")\n",
    "grayPic = cv2.cvtColor(my_img,cv2.COLOR_BGR2GRAY)\n",
    "reduceNoise = cv2.GaussianBlur(grayPic,(5,5),cv2.BORDER_DEFAULT)\n",
    "edged = cv2.Canny(reduceNoise,10,20)\n",
    "lines = cv2.HoughLinesP(edged, rho = 2, theta = np.pi/180, threshold = 50, lines = np.array([]),\n",
    "                             minLineLength = 40, maxLineGap = 150 )\n",
    "cv2.imshow(\"output_pic\",edged)\n",
    "cv2.waitKey(0)\n",
    "cv2.destroyAllWindows()"
   ]
  },
  {
   "cell_type": "code",
   "execution_count": 28,
   "metadata": {},
   "outputs": [
    {
     "data": {
      "text/plain": [
       "array([[[ 22, 399, 539, 399]],\n",
       "\n",
       "       [[ 15, 468, 555, 468]],\n",
       "\n",
       "       [[ 59, 252, 495, 252]],\n",
       "\n",
       "       [[ 74, 193, 476, 193]],\n",
       "\n",
       "       [[ 80, 167, 468, 167]],\n",
       "\n",
       "       [[ 32, 355, 526, 355]],\n",
       "\n",
       "       [[ 11, 444, 553, 444]],\n",
       "\n",
       "       [[ 42, 316, 513, 316]],\n",
       "\n",
       "       [[ 66, 220, 484, 220]],\n",
       "\n",
       "       [[ 52, 275, 505, 275]],\n",
       "\n",
       "       [[ 69, 214,  84, 154]],\n",
       "\n",
       "       [[167, 469, 195, 145]],\n",
       "\n",
       "       [[ 81, 163, 467, 163]],\n",
       "\n",
       "       [[277, 151, 288, 470]],\n",
       "\n",
       "       [[  9, 449, 555, 449]],\n",
       "\n",
       "       [[ 57, 257, 497, 257]],\n",
       "\n",
       "       [[464, 155, 553, 445]],\n",
       "\n",
       "       [[228, 471, 234, 147]],\n",
       "\n",
       "       [[362, 146, 407, 466]],\n",
       "\n",
       "       [[ 48, 281, 505, 281]],\n",
       "\n",
       "       [[109, 446, 151, 147]],\n",
       "\n",
       "       [[440, 151, 531, 469]],\n",
       "\n",
       "       [[  7, 461,  83, 155]],\n",
       "\n",
       "       [[320, 147, 348, 469]],\n",
       "\n",
       "       [[ 65, 356, 498, 363]],\n",
       "\n",
       "       [[  9, 448, 517, 439]],\n",
       "\n",
       "       [[ 40, 321, 482, 321]],\n",
       "\n",
       "       [[400, 147, 468, 467]],\n",
       "\n",
       "       [[ 51, 276, 505, 276]],\n",
       "\n",
       "       [[ 92, 149, 433, 149]],\n",
       "\n",
       "       [[ 65, 223, 461, 223]],\n",
       "\n",
       "       [[ 44, 304, 485, 327]],\n",
       "\n",
       "       [[  8, 453, 557, 453]],\n",
       "\n",
       "       [[ 56, 398, 105, 166]],\n",
       "\n",
       "       [[110, 164, 469, 170]],\n",
       "\n",
       "       [[ 33, 352, 528, 360]],\n",
       "\n",
       "       [[ 49, 279, 506, 279]],\n",
       "\n",
       "       [[210, 471, 558, 465]],\n",
       "\n",
       "       [[ 61, 395, 337, 395]],\n",
       "\n",
       "       [[ 48, 440, 517, 448]],\n",
       "\n",
       "       [[132, 273, 504, 273]],\n",
       "\n",
       "       [[ 96, 176, 428, 164]],\n",
       "\n",
       "       [[ 99, 190, 454, 196]],\n",
       "\n",
       "       [[321, 146, 421, 148]],\n",
       "\n",
       "       [[ 69, 213, 460, 227]],\n",
       "\n",
       "       [[ 46, 292, 503, 268]],\n",
       "\n",
       "       [[ 55, 414, 508, 398]],\n",
       "\n",
       "       [[465, 157, 559, 464]],\n",
       "\n",
       "       [[168, 145, 448, 150]],\n",
       "\n",
       "       [[363, 170, 404, 466]],\n",
       "\n",
       "       [[ 52, 466,  89, 206]],\n",
       "\n",
       "       [[438, 151, 516, 443]],\n",
       "\n",
       "       [[230, 448, 235, 147]],\n",
       "\n",
       "       [[ 42, 313, 481, 320]],\n",
       "\n",
       "       [[ 90, 251, 490, 300]],\n",
       "\n",
       "       [[125, 160, 425, 160]],\n",
       "\n",
       "       [[ 89, 253, 328, 249]],\n",
       "\n",
       "       [[  8, 451, 522, 442]],\n",
       "\n",
       "       [[165, 469, 191, 169]],\n",
       "\n",
       "       [[ 37, 335, 504, 367]],\n",
       "\n",
       "       [[318, 147, 340, 401]],\n",
       "\n",
       "       [[450, 151, 518, 447]],\n",
       "\n",
       "       [[ 47, 442, 110, 169]],\n",
       "\n",
       "       [[ 15, 429, 558, 457]],\n",
       "\n",
       "       [[107, 443, 149, 147]],\n",
       "\n",
       "       [[ 10, 466, 277, 471]],\n",
       "\n",
       "       [[ 91, 250, 501, 264]],\n",
       "\n",
       "       [[109, 256, 493, 303]],\n",
       "\n",
       "       [[ 47, 425, 106, 150]],\n",
       "\n",
       "       [[ 62, 236, 480, 295]],\n",
       "\n",
       "       [[167, 159, 444, 169]],\n",
       "\n",
       "       [[ 66, 219, 460, 226]],\n",
       "\n",
       "       [[ 39, 425, 386, 467]],\n",
       "\n",
       "       [[  7, 455, 557, 455]],\n",
       "\n",
       "       [[ 61, 239, 490, 299]],\n",
       "\n",
       "       [[ 72, 448, 555, 448]],\n",
       "\n",
       "       [[229, 405, 507, 405]],\n",
       "\n",
       "       [[404, 170, 462, 466]],\n",
       "\n",
       "       [[ 47, 287, 461, 280]],\n",
       "\n",
       "       [[103, 171, 297, 168]],\n",
       "\n",
       "       [[456, 181, 538, 469]],\n",
       "\n",
       "       [[ 44, 428, 103, 150]],\n",
       "\n",
       "       [[444, 151, 513, 428]],\n",
       "\n",
       "       [[ 30, 364, 524, 347]],\n",
       "\n",
       "       [[ 96, 177, 310, 147]],\n",
       "\n",
       "       [[453, 181, 535, 469]],\n",
       "\n",
       "       [[279, 255, 496, 255]],\n",
       "\n",
       "       [[121, 221, 502, 267]],\n",
       "\n",
       "       [[426, 465, 553, 469]],\n",
       "\n",
       "       [[ 24, 388, 453, 403]],\n",
       "\n",
       "       [[ 87, 259, 474, 239]],\n",
       "\n",
       "       [[  8, 452, 557, 452]],\n",
       "\n",
       "       [[277, 171, 286, 445]],\n",
       "\n",
       "       [[354, 146, 410, 466]],\n",
       "\n",
       "       [[229, 315, 485, 324]],\n",
       "\n",
       "       [[ 40, 421,  96, 178]]], dtype=int32)"
      ]
     },
     "execution_count": 28,
     "metadata": {},
     "output_type": "execute_result"
    }
   ],
   "source": [
    "lines"
   ]
  },
  {
   "cell_type": "code",
   "execution_count": 35,
   "metadata": {},
   "outputs": [],
   "source": [
    "def draw_line(image, lines):\n",
    "    lines_image = np.zeros((image.shape[0], image.shape[1], 3), dtype = np.uint8) \n",
    "    for line in lines:\n",
    "        for x1, y1, x2, y2 in line:\n",
    "            cv2.line(lines_image, (x1, y1), (x2, y2), (255, 255, 0), thickness = 3)\n",
    "    \n",
    "    image_with_lines = cv2.addWeighted(image, 0.8, lines_image, 1, 0.0)\n",
    "\n",
    "    \n",
    "    return(image_with_lines)\n",
    "\n",
    "image_with_line = draw_line(my_img, lines)\n"
   ]
  },
  {
   "cell_type": "code",
   "execution_count": 39,
   "metadata": {},
   "outputs": [],
   "source": [
    "cv2.imshow(\"output_pic\",image_with_line)\n",
    "cv2.waitKey(0)\n",
    "cv2.destroyAllWindows()"
   ]
  },
  {
   "cell_type": "code",
   "execution_count": 41,
   "metadata": {},
   "outputs": [
    {
     "data": {
      "text/plain": [
       "(96, 1, 4)"
      ]
     },
     "execution_count": 41,
     "metadata": {},
     "output_type": "execute_result"
    }
   ],
   "source": [
    "lines.shape\n",
    "# x1, y1, x2, y2"
   ]
  },
  {
   "cell_type": "markdown",
   "metadata": {},
   "source": [
    "# finding the 4 corners and straghting"
   ]
  },
  {
   "cell_type": "code",
   "execution_count": 20,
   "metadata": {},
   "outputs": [
    {
     "data": {
      "text/plain": [
       "True"
      ]
     },
     "execution_count": 20,
     "metadata": {},
     "output_type": "execute_result"
    }
   ],
   "source": [
    "color = cv2.imread('chessG.jpg', cv2.IMREAD_COLOR)\n",
    "color = cv2.resize(color, (0, 0), fx=0.15, fy=0.15)\n",
    "# RGB to gray\n",
    "gray = cv2.cvtColor(color, cv2.COLOR_BGR2GRAY)\n",
    "cv2.imwrite('gray.png', gray)\n",
    "# cv2.imwrite('output/thresh.png', thresh)\n",
    "# Edge detection\n",
    "edges = cv2.Canny(gray, 100, 200, apertureSize=3)\n",
    "# Save the edge detected image\n",
    "cv2.imwrite('edges.png', edges)"
   ]
  },
  {
   "cell_type": "code",
   "execution_count": 21,
   "metadata": {},
   "outputs": [],
   "source": [
    "def cyclic_intersection_pts(pts):\n",
    "    \"\"\"\n",
    "    Sorts 4 points in clockwise direction with the first point been closest to 0,0\n",
    "    Assumption:\n",
    "        There are exactly 4 points in the input and\n",
    "        from a rectangle which is not very distorted\n",
    "    \"\"\"\n",
    "    if pts.shape[0] != 4:\n",
    "        return None\n",
    "\n",
    "    # Calculate the center\n",
    "    center = np.mean(pts, axis=0)\n",
    "\n",
    "    # Sort the points in clockwise\n",
    "    cyclic_pts = [\n",
    "        # Top-left\n",
    "        pts[np.where(np.logical_and(pts[:, 0] < center[0], pts[:, 1] < center[1]))[0][0], :],\n",
    "        # Top-right\n",
    "        pts[np.where(np.logical_and(pts[:, 0] > center[0], pts[:, 1] < center[1]))[0][0], :],\n",
    "        # Bottom-Right\n",
    "        pts[np.where(np.logical_and(pts[:, 0] > center[0], pts[:, 1] > center[1]))[0][0], :],\n",
    "        # Bottom-Left\n",
    "        pts[np.where(np.logical_and(pts[:, 0] < center[0], pts[:, 1] > center[1]))[0][0], :]\n",
    "    ]\n",
    "\n",
    "    return np.array(cyclic_pts)\n",
    "\n",
    "#--------------------------------------------\n",
    "def drawHoughLines(image, lines, output):\n",
    "    out = image.copy()\n",
    "    for line in lines:\n",
    "        rho, theta = line[0]\n",
    "        a = np.cos(theta)\n",
    "        b = np.sin(theta)\n",
    "        x0 = a * rho\n",
    "        y0 = b * rho\n",
    "        x1 = int(x0 + 10000 * (-b))\n",
    "        y1 = int(y0 + 10000 * (a))\n",
    "        x2 = int(x0 - 10000 * (-b))\n",
    "        y2 = int(y0 - 10000 * (a))\n",
    "        cv2.line(out, (x1, y1), (x2, y2), (0, 255, 0), 2)\n",
    "    cv2.imwrite(output, out)\n",
    "import numpy as np\n",
    "\n",
    "\n",
    "def polar2cartesian(rho: float, theta_rad: float, rotate90: bool = False):\n",
    "    \"\"\"\n",
    "    Converts line equation from polar to cartesian coordinates\n",
    "    Args:\n",
    "        rho: input line rho\n",
    "        theta_rad: input line theta\n",
    "        rotate90: output line perpendicular to the input line\n",
    "    Returns:\n",
    "        m: slope of the line\n",
    "           For horizontal line: m = 0\n",
    "           For vertical line: m = np.nan\n",
    "        b: intercept when x=0\n",
    "    \"\"\"\n",
    "    x = np.cos(theta_rad) * rho\n",
    "    y = np.sin(theta_rad) * rho\n",
    "    m = np.nan\n",
    "    if not np.isclose(x, 0.0):\n",
    "        m = y / x\n",
    "    if rotate90:\n",
    "        if m is np.nan:\n",
    "            m = 0.0\n",
    "        elif np.isclose(m, 0.0):\n",
    "            m = np.nan\n",
    "        else:\n",
    "            m = -1.0 / m\n",
    "    b = 0.0\n",
    "    if m is not np.nan:\n",
    "        b = y - m * x\n",
    "\n",
    "    return m, b\n",
    "\n",
    "\n",
    "def solve4x(y: float, m: float, b: float):\n",
    "    \"\"\"\n",
    "    From y = m * x + b\n",
    "         x = (y - b) / m\n",
    "    \"\"\"\n",
    "    if np.isclose(m, 0.0):\n",
    "        return 0.0\n",
    "    if m is np.nan:\n",
    "        return b\n",
    "    return (y - b) / m\n",
    "\n",
    "\n",
    "def solve4y(x: float, m: float, b: float):\n",
    "    \"\"\"\n",
    "    y = m * x + b\n",
    "    \"\"\"\n",
    "    if m is np.nan:\n",
    "        return b\n",
    "    return m * x + b\n",
    "\n",
    "\n",
    "def intersection(m1: float, b1: float, m2: float, b2: float):\n",
    "    # Consider y to be equal and solve for x\n",
    "    # Solve:\n",
    "    #   m1 * x + b1 = m2 * x + b2\n",
    "    x = (b2 - b1) / (m1 - m2)\n",
    "    # Use the value of x to calculate y\n",
    "    y = m1 * x + b1\n",
    "\n",
    "    return int(round(x)), int(round(y))\n",
    "\n",
    "\n",
    "def line_end_points_on_image(rho: float, theta: float, image_shape: tuple):\n",
    "    \"\"\"\n",
    "    Returns end points of the line on the end of the image\n",
    "    Args:\n",
    "        rho: input line rho\n",
    "        theta: input line theta\n",
    "        image_shape: shape of the image\n",
    "    Returns:\n",
    "        list: [(x1, y1), (x2, y2)]\n",
    "    \"\"\"\n",
    "    m, b = polar2cartesian(rho, theta, True)\n",
    "\n",
    "    end_pts = []\n",
    "\n",
    "    if not np.isclose(m, 0.0):\n",
    "        x = int(0)\n",
    "        y = int(solve4y(x, m, b))\n",
    "        if point_on_image(x, y, image_shape):\n",
    "            end_pts.append((x, y))\n",
    "            x = int(image_shape[1] - 1)\n",
    "            y = int(solve4y(x, m, b))\n",
    "            if point_on_image(x, y, image_shape):\n",
    "                end_pts.append((x, y))\n",
    "\n",
    "    if m is not np.nan:\n",
    "        y = int(0)\n",
    "        x = int(solve4x(y, m, b))\n",
    "        if point_on_image(x, y, image_shape):\n",
    "            end_pts.append((x, y))\n",
    "            y = int(image_shape[0] - 1)\n",
    "            x = int(solve4x(y, m, b))\n",
    "            if point_on_image(x, y, image_shape):\n",
    "                end_pts.append((x, y))\n",
    "\n",
    "    return end_pts\n",
    "\n",
    "\n",
    "def hough_lines_end_points(lines: np.array, image_shape: tuple):\n",
    "    \"\"\"\n",
    "    Returns end points of the lines on the edge of the image\n",
    "    \"\"\"\n",
    "    if len(lines.shape) == 3 and \\\n",
    "            lines.shape[1] == 1 and lines.shape[2] == 2:\n",
    "        lines = np.squeeze(lines)\n",
    "    end_pts = []\n",
    "    for line in lines:\n",
    "        rho, theta = line\n",
    "        end_pts.append(\n",
    "            line_end_points_on_image(rho, theta, image_shape))\n",
    "    return end_pts\n",
    "\n",
    "\n",
    "def hough_lines_intersection(lines: np.array, image_shape: tuple):\n",
    "    \"\"\"\n",
    "    Returns the intersection points that lie on the image\n",
    "    for all combinations of the lines\n",
    "    \"\"\"\n",
    "    if len(lines.shape) == 3 and \\\n",
    "            lines.shape[1] == 1 and lines.shape[2] == 2:\n",
    "        lines = np.squeeze(lines)\n",
    "    lines_count = len(lines)\n",
    "    intersect_pts = []\n",
    "    for i in range(lines_count - 1):\n",
    "        for j in range(i + 1, lines_count):\n",
    "            m1, b1 = polar2cartesian(lines[i][0], lines[i][1], True)\n",
    "            m2, b2 = polar2cartesian(lines[j][0], lines[j][1], True)\n",
    "            x, y = intersection(m1, b1, m2, b2)\n",
    "            if point_on_image(x, y, image_shape):\n",
    "                intersect_pts.append([x, y])\n",
    "    return np.array(intersect_pts, dtype=int)\n",
    "\n",
    "\n",
    "def point_on_image(x: int, y: int, image_shape: tuple):\n",
    "    \"\"\"\n",
    "    Returns true is x and y are on the image\n",
    "    \"\"\"\n",
    "    return 0 <= y < image_shape[0] and 0 <= x < image_shape[1]"
   ]
  }
 ],
 "metadata": {
  "interpreter": {
   "hash": "500d7a0e12ee42fd9f4bf024a8bb50807a7416d8114a7ce2c163c28a66256348"
  },
  "kernelspec": {
   "display_name": "yolove",
   "language": "python",
   "name": "yolove"
  },
  "language_info": {
   "codemirror_mode": {
    "name": "ipython",
    "version": 3
   },
   "file_extension": ".py",
   "mimetype": "text/x-python",
   "name": "python",
   "nbconvert_exporter": "python",
   "pygments_lexer": "ipython3",
   "version": "3.9.0"
  }
 },
 "nbformat": 4,
 "nbformat_minor": 4
}
